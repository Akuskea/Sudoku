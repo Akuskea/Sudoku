{
 "cells": [
  {
   "cell_type": "code",
   "execution_count": 1,
   "id": "55dee63c-12d1-449d-909b-069e1baf539a",
   "metadata": {},
   "outputs": [
    {
     "ename": "SyntaxError",
     "evalue": "invalid syntax (2250625815.py, line 1)",
     "output_type": "error",
     "traceback": [
      "\u001b[0;36m  File \u001b[0;32m\"/var/folders/jw/z3kvlftx4fbgf8swq62yr2vw0000gn/T/ipykernel_9177/2250625815.py\"\u001b[0;36m, line \u001b[0;32m1\u001b[0m\n\u001b[0;31m    import time d\u001b[0m\n\u001b[0m                ^\u001b[0m\n\u001b[0;31mSyntaxError\u001b[0m\u001b[0;31m:\u001b[0m invalid syntax\n"
     ]
    }
   ],
   "source": [
    "import time"
   ]
  },
  {
   "cell_type": "code",
   "execution_count": 147,
   "id": "6c96b547-99fd-4601-a259-bb0972b9c9de",
   "metadata": {},
   "outputs": [
    {
     "name": "stdout",
     "output_type": "stream",
     "text": [
      "[[0, 0, 6, 0, 0, 0, 0, 0, 1], [0, 7, 0, 0, 6, 0, 0, 5, 0], [8, 0, 0, 1, 0, 3, 2, 0, 0], [0, 0, 5, 0, 4, 0, 8, 0, 0], [0, 4, 0, 7, 0, 2, 0, 9, 0], [0, 0, 8, 0, 1, 0, 7, 0, 0], [0, 0, 1, 2, 0, 5, 0, 0, 3], [0, 6, 0, 0, 7, 0, 0, 8, 0], [2, 0, 0, 0, 0, 0, 4, 0, 0]]\n"
     ]
    }
   ],
   "source": [
    "#Open input file\n",
    "file = open(\"input3.txt\")\n",
    "startNum = []\n",
    "startNum = file.readline().strip().split()\n",
    "#Convert to int\n",
    "n = int(startNum[0])\n",
    "m = int(startNum[1])\n",
    "\n",
    "puzzle = []\n",
    "for line in range(n):\n",
    "    puzzle.append(file.readline().strip().split(' '))\n",
    "\n",
    "#Convert string into interger\n",
    "for row in range(0, len(puzzle)):\n",
    "    for col in range(0, len(puzzle)):\n",
    "        puzzle[row][col] = int(puzzle[row][col])\n",
    "print(puzzle)"
   ]
  },
  {
   "cell_type": "code",
   "execution_count": 148,
   "id": "c7962d85-a35d-4b5f-b6bf-1b6f20f934b6",
   "metadata": {},
   "outputs": [],
   "source": [
    "def solve_puzzle(puzzle, n):\n",
    "    for row in range(n):\n",
    "        for col in range(n):\n",
    "            if puzzle[row][col] == 0:\n",
    "                for num in range(1, n+1):\n",
    "                    if is_valid(puzzle, row, col, num,n):\n",
    "                        puzzle[row][col] = num\n",
    "                        if solve_puzzle(puzzle, n):\n",
    "                            return True\n",
    "                        puzzle[row][col] = 0\n",
    "                return False\n",
    "    if not any(0 in row for row in puzzle):\n",
    "        return True\n",
    "    return False\n",
    "\n",
    "\n",
    "def is_valid(puzzle, row, col, num, n):\n",
    "    # Check row\n",
    "    for i in range(len(puzzle)):\n",
    "        if puzzle[row][i] == num:\n",
    "            return False\n",
    "\n",
    "    # Check column\n",
    "    for i in range(len(puzzle)):\n",
    "        if puzzle[i][col] == num:\n",
    "            return False\n",
    "\n",
    "    # Check subgrid\n",
    "    #subgrid_x = (col // int(n**0.5)) * int(n**0.5)\n",
    "    #subgrid_y = (row // int(n**0.5)) * int(n**0.5)\n",
    "    #for i in range(int(n**0.5)):\n",
    "     #   for j in range(int(n**0.5)):\n",
    "      #      if puzzle[subgrid_y + i][subgrid_x + j] == num:\n",
    "       #         return False\n",
    "\n",
    "    return True\n",
    "# Remove values in the same block\n",
    "    block_size = int(n ** 0.5)\n",
    "    block_row = (row // block_size) * block_size\n",
    "    block_col = (col // block_size) * block_size\n",
    "    for i in range(block_row, block_row + block_size):\n",
    "        for j in range(block_col, block_col + block_size):\n",
    "            if board[i][j] in domain:\n",
    "                domain.remove(board[i][j])\n",
    "\n",
    "\n"
   ]
  },
  {
   "cell_type": "code",
   "execution_count": 149,
   "id": "24274ad7-37d1-4dae-8cff-8de90748e6cc",
   "metadata": {},
   "outputs": [
    {
     "name": "stdout",
     "output_type": "stream",
     "text": [
      "[4, 3, 6, 5, 2, 8, 9, 7, 1]\n",
      "[1, 7, 2, 4, 6, 9, 3, 5, 8]\n",
      "[8, 9, 7, 1, 5, 3, 2, 6, 4]\n",
      "[3, 1, 5, 6, 4, 7, 8, 2, 9]\n",
      "[5, 4, 3, 7, 8, 2, 1, 9, 6]\n",
      "[6, 2, 8, 9, 1, 4, 7, 3, 5]\n",
      "[7, 8, 1, 2, 9, 5, 6, 4, 3]\n",
      "[9, 6, 4, 3, 7, 1, 5, 8, 2]\n",
      "[2, 5, 9, 8, 3, 6, 4, 1, 7]\n",
      "For input size of 9 and difficulty level of 53 the solving-time is 32.95368194580078 s\n"
     ]
    }
   ],
   "source": [
    "start = time.time()\n",
    "if solve_puzzle(puzzle, n):\n",
    "    for row in puzzle:\n",
    "        print(row)\n",
    "    end = time.time()\n",
    "else:\n",
    "    print(\"No solution found.\")\n",
    "    end = time.time()\n",
    "runtime = end-start\n",
    "print(\"For input size of\", n,\"and difficulty level of\", m, \"the solving-time is\",runtime,\"s\")\n"
   ]
  },
  {
   "cell_type": "code",
   "execution_count": null,
   "id": "ad4816ef-bcb8-43d0-b570-bf265cf86a61",
   "metadata": {},
   "outputs": [],
   "source": []
  },
  {
   "cell_type": "code",
   "execution_count": null,
   "id": "07b3ecf4-aac4-4699-b889-85fbbf60f7b3",
   "metadata": {},
   "outputs": [],
   "source": []
  }
 ],
 "metadata": {
  "kernelspec": {
   "display_name": "Python 3 (ipykernel)",
   "language": "python",
   "name": "python3"
  },
  "language_info": {
   "codemirror_mode": {
    "name": "ipython",
    "version": 3
   },
   "file_extension": ".py",
   "mimetype": "text/x-python",
   "name": "python",
   "nbconvert_exporter": "python",
   "pygments_lexer": "ipython3",
   "version": "3.9.13"
  }
 },
 "nbformat": 4,
 "nbformat_minor": 5
}
